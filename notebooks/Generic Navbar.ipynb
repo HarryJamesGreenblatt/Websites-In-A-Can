{
 "cells": [
  {
   "cell_type": "markdown",
   "id": "845f0358",
   "metadata": {},
   "source": [
    "<style>\n",
    "*{\n",
    "    margin: 0;\n",
    "    padding: 0;\n",
    "}\n",
    "\n",
    ".nav-container{\n",
    "    display: flex;\n",
    "    flex-direction: column;\n",
    "    background: red;\n",
    "\n",
    "    height: 100%;\n",
    "    width: 100%;\n",
    "}\n",
    "\n",
    ".nav{\n",
    "    color: white;\n",
    "}\n",
    ".items{\n",
    "    width: 100%;\n",
    "}\n",
    ".items ul{\n",
    "    display: flex;\n",
    "    justify-content: flex-end;\n",
    "    width: 15%;\n",
    "    align-items: center;\n",
    "    list-style: none;\n",
    "}\n",
    "\n",
    ".nav li a{\n",
    "    background: white;\n",
    "    color: blue;\n",
    "    padding: .25em .5em;\n",
    "}\n",
    "\n",
    ".logo{\n",
    "    margin-left: 2em;\n",
    "    font-size: 2rem;\n",
    "}\n",
    "</style>\n",
    "\n",
    "\n",
    "<div class=\"nav-container\">\n",
    "    <navigation class=\"nav\">\n",
    "        <div class=\"logo container\">\n",
    "            <p class=\"logo\">Some Logo Here</p>\n",
    "        </div>\n",
    "        <div class=\"item-container\">\n",
    "            <ul>\n",
    "                <li><a href=\"#\">item 1</a></li>\n",
    "                <li><a href=\"#\">item 2</a></li>\n",
    "                <li><a href=\"#\">item 3</a></li>\n",
    "            </ul>\n",
    "        </div>\n",
    "    </navigation>\n",
    "</div>"
   ]
  }
 ],
 "metadata": {
  "kernelspec": {
   "display_name": "Python 3 (ipykernel)",
   "language": "python",
   "name": "python3"
  },
  "language_info": {
   "codemirror_mode": {
    "name": "ipython",
    "version": 3
   },
   "file_extension": ".py",
   "mimetype": "text/x-python",
   "name": "python",
   "nbconvert_exporter": "python",
   "pygments_lexer": "ipython3",
   "version": "3.9.13"
  }
 },
 "nbformat": 4,
 "nbformat_minor": 5
}
