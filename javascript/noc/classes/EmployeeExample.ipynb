{
 "cells": [
  {
   "cell_type": "markdown",
   "id": "a98e6835",
   "metadata": {},
   "source": [
    "<center>\n",
    "    <h1>The Employee Example</h1>\n",
    "    <br>\n",
    "    <p>\n",
    "        <img src=\"https://developer.mozilla.org/en-US/docs/Web/JavaScript/Guide/Details_of_the_Object_Model/figure8.1.png\" alt=\"\" loading=\"lazy\" width=\"281\" height=\"194\">\n",
    "    </p>\n",
    "</center>\n",
    "\n",
    "---\n",
    "\n",
    "<p>\n",
    "        This shows an object hierarchy with the following objects:\n",
    "</p>"
   ]
  },
  {
   "cell_type": "markdown",
   "id": "3c4f8e2d",
   "metadata": {},
   "source": [
    "<ul>\n",
    "    <li>\n",
    "          <code>Employee</code> has the properties <code>name</code> \n",
    "          (whose value defaults to the empty string) and <code>dept</code> \n",
    "          (whose value defaults to \"general\").\n",
    "    </li>\n",
    "</ul>"
   ]
  },
  {
   "cell_type": "code",
   "execution_count": 1,
   "id": "d309e502",
   "metadata": {},
   "outputs": [],
   "source": [
    "class Employee{\n",
    "    constructor(name, dept){\n",
    "        this.name = name || '';\n",
    "        this.dept = dept || 'General';\n",
    "    }\n",
    "}"
   ]
  },
  {
   "cell_type": "markdown",
   "id": "1922fad0",
   "metadata": {},
   "source": [
    "<br>"
   ]
  },
  {
   "cell_type": "markdown",
   "id": "4fb33bd3",
   "metadata": {},
   "source": [
    "<br>  "
   ]
  },
  {
   "cell_type": "markdown",
   "id": "6e1c066d",
   "metadata": {},
   "source": [
    "<ul>\n",
    "    <li>\n",
    "          <code>Manager</code> is based on <code>Employee</code>. \n",
    "          It adds the <code>reports</code> property (whose value defaults to \n",
    "          an empty array, intended to have an array of <code>Employee</code>\n",
    "          objects as its value).\n",
    "    </li>\n",
    "</ul>"
   ]
  },
  {
   "cell_type": "code",
   "execution_count": 2,
   "id": "bf687536",
   "metadata": {},
   "outputs": [],
   "source": [
    "class Manager extends Employee{\n",
    "     constructor(name, dept, reports){\n",
    "         super(name, dept);\n",
    "         this.reports = reports || [];\n",
    "     }\n",
    "}"
   ]
  },
  {
   "cell_type": "markdown",
   "id": "c555b10a",
   "metadata": {},
   "source": [
    "<br>"
   ]
  },
  {
   "cell_type": "markdown",
   "id": "901db283",
   "metadata": {},
   "source": [
    "<br>"
   ]
  },
  {
   "cell_type": "markdown",
   "id": "6a8a42e5",
   "metadata": {},
   "source": [
    "<ul>   \n",
    "    <li>\n",
    "          <code>WorkerBee</code> is also based on <code>Employee</code>. \n",
    "          It adds the <code>projects</code> property (whose value defaults to an\n",
    "          empty array, intended to have an array of strings as its value).\n",
    "    </li>\n",
    "</ul>"
   ]
  },
  {
   "cell_type": "code",
   "execution_count": 3,
   "id": "73fd20a9",
   "metadata": {},
   "outputs": [],
   "source": [
    "class WorkerBee extends Employee {\n",
    "    constructor(name, dept, projects){\n",
    "        super(name, dept);\n",
    "        this.projects = projects || [];\n",
    "    }\n",
    "}"
   ]
  },
  {
   "cell_type": "markdown",
   "id": "ffe78b97",
   "metadata": {},
   "source": [
    "<br>"
   ]
  },
  {
   "cell_type": "markdown",
   "id": "2e780ab2",
   "metadata": {},
   "source": [
    "<br>"
   ]
  },
  {
   "cell_type": "markdown",
   "id": "3108d2d1",
   "metadata": {},
   "source": [
    "<ul>\n",
    "    <li>\n",
    "        <code>SalesPerson</code> is based on <code>WorkerBee</code>. \n",
    "        It adds the <code>quota</code> property (whose value defaults to 100).\n",
    "        It also overrides the <code>dept</code> property with the value \"sales\",\n",
    "        indicating that all salespersons are in the same department.\n",
    "    </li>\n",
    "</ul>"
   ]
  },
  {
   "cell_type": "code",
   "execution_count": 4,
   "id": "223a6bbc",
   "metadata": {},
   "outputs": [],
   "source": [
    "class SalesPerson extends WorkerBee {\n",
    "    constructor(name,quota,projects){\n",
    "        super(name, projects);\n",
    "        this.quota = quota || 100;\n",
    "        this.projects = projects;\n",
    "        this.dept = \"Sales\";\n",
    "    }\n",
    "}"
   ]
  },
  {
   "cell_type": "markdown",
   "id": "d5d5e991",
   "metadata": {},
   "source": [
    "<br>"
   ]
  },
  {
   "cell_type": "markdown",
   "id": "ea9afc0d",
   "metadata": {},
   "source": [
    "<br>"
   ]
  },
  {
   "cell_type": "markdown",
   "id": "23e22aae",
   "metadata": {},
   "source": [
    "<ul>\n",
    "    <li>\n",
    "          <code>Engineer</code> is based on <code>WorkerBee</code>. \n",
    "          It adds the <code>machine</code> property (whose value defaults to the\n",
    "          empty string) and also overrides the <code>dept</code> property with \n",
    "          the value \"engineering\".\n",
    "    </li>\n",
    "</ul>"
   ]
  },
  {
   "cell_type": "code",
   "execution_count": 5,
   "id": "2e3f08ea",
   "metadata": {},
   "outputs": [],
   "source": [
    "class Engineer extends WorkerBee {\n",
    "    constructor(name,machine, projects){\n",
    "        super(name, projects);\n",
    "        this.machine = machine || '';\n",
    "        this.projects = projects;\n",
    "        this.dept = \"Engineering\";\n",
    "    }\n",
    "}"
   ]
  },
  {
   "cell_type": "code",
   "execution_count": 6,
   "id": "586db695",
   "metadata": {},
   "outputs": [],
   "source": [
    "let harry = new Engineer(\n",
    "    \"Harry Greenblatt\",\n",
    "    \"CG13C93\",\n",
    "    [\"DCGS-N\", \"LBS-UUV\"]\n",
    ");"
   ]
  },
  {
   "cell_type": "code",
   "execution_count": 7,
   "id": "e638f482",
   "metadata": {},
   "outputs": [
    {
     "data": {
      "text/plain": [
       "Engineer {\n",
       "  name: 'Harry Greenblatt',\n",
       "  dept: 'Engineering',\n",
       "  projects: [ 'DCGS-N', 'LBS-UUV' ],\n",
       "  machine: 'CG13C93'\n",
       "}"
      ]
     },
     "execution_count": 7,
     "metadata": {},
     "output_type": "execute_result"
    }
   ],
   "source": [
    "harry;"
   ]
  }
 ],
 "metadata": {
  "kernelspec": {
   "display_name": "Javascript (Node.js)",
   "language": "javascript",
   "name": "javascript"
  },
  "language_info": {
   "file_extension": ".js",
   "mimetype": "application/javascript",
   "name": "javascript",
   "version": "14.18.1"
  }
 },
 "nbformat": 4,
 "nbformat_minor": 5
}
