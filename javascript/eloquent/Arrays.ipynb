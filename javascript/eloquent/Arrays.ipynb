{
 "cells": [
  {
   "cell_type": "markdown",
   "source": [
    "<link rel=\"stylesheet\" href=\"https://cdn.jsdelivr.net/npm/bulma@0.9.0/css/bulma.min.css\">\r\n",
    "    <section class=\"hero is-medium has-background-warning\">\r\n",
    "        <div class=\"hero-body\">\r\n",
    "            <p class=\"title has-text-black\">Examples of Arrays:</p>\r\n",
    "            <p class=\"subtitle has-text-danger is-italic is-bold\">A list of values between square brackets, separated by commas.</p>\r\n",
    "        </div>\r\n",
    "    </section>"
   ],
   "metadata": {}
  },
  {
   "cell_type": "code",
   "execution_count": 1,
   "source": [
    "let arrayOfNumbers = [ 0,1,2,3,4,5,6,7,8,9 ];"
   ],
   "outputs": [],
   "metadata": {}
  },
  {
   "cell_type": "code",
   "execution_count": 3,
   "source": [
    "arrayOfNumbers;"
   ],
   "outputs": [
    {
     "output_type": "execute_result",
     "data": {
      "text/plain": [
       "[ 0, 1, 2, 3, 4, 5, 6, 7, 8, 9 ]"
      ]
     },
     "metadata": {},
     "execution_count": 3
    }
   ],
   "metadata": {}
  },
  {
   "cell_type": "markdown",
   "source": [
    "## Indexing"
   ],
   "metadata": {}
  },
  {
   "cell_type": "code",
   "execution_count": 4,
   "source": [
    "arrayOfNumbers[0];"
   ],
   "outputs": [
    {
     "output_type": "execute_result",
     "data": {
      "text/plain": [
       "0"
      ]
     },
     "metadata": {},
     "execution_count": 4
    }
   ],
   "metadata": {}
  },
  {
   "cell_type": "code",
   "execution_count": 5,
   "source": [
    "arrayOfNumbers[9];"
   ],
   "outputs": [
    {
     "output_type": "execute_result",
     "data": {
      "text/plain": [
       "9"
      ]
     },
     "metadata": {},
     "execution_count": 5
    }
   ],
   "metadata": {}
  },
  {
   "cell_type": "code",
   "execution_count": 7,
   "source": [
    "arrayOfNumbers[9-2];"
   ],
   "outputs": [
    {
     "output_type": "execute_result",
     "data": {
      "text/plain": [
       "7"
      ]
     },
     "metadata": {},
     "execution_count": 7
    }
   ],
   "metadata": {}
  },
  {
   "cell_type": "markdown",
   "source": [
    "## Properties"
   ],
   "metadata": {}
  },
  {
   "cell_type": "code",
   "execution_count": 8,
   "source": [
    "arrayOfNumbers['length'];"
   ],
   "outputs": [
    {
     "output_type": "execute_result",
     "data": {
      "text/plain": [
       "10"
      ]
     },
     "metadata": {},
     "execution_count": 8
    }
   ],
   "metadata": {}
  },
  {
   "cell_type": "code",
   "execution_count": 9,
   "source": [
    "arrayOfNumbers.length;"
   ],
   "outputs": [
    {
     "output_type": "execute_result",
     "data": {
      "text/plain": [
       "10"
      ]
     },
     "metadata": {},
     "execution_count": 9
    }
   ],
   "metadata": {}
  },
  {
   "cell_type": "markdown",
   "source": [
    "<br>"
   ],
   "metadata": {}
  },
  {
   "cell_type": "markdown",
   "source": [
    "## Higer Order Methods"
   ],
   "metadata": {}
  },
  {
   "cell_type": "code",
   "execution_count": 3,
   "source": [
    "function filter(array, test) {\r\n",
    "  let passed = [];\r\n",
    "  for (let element of array) {\r\n",
    "    if (test(element)) {\r\n",
    "      passed.push(element);\r\n",
    "    }\r\n",
    "  }\r\n",
    "  return passed;\r\n",
    "}"
   ],
   "outputs": [],
   "metadata": {}
  },
  {
   "cell_type": "code",
   "execution_count": 5,
   "source": [
    "filter(\r\n",
    "    [1,2,3,4,5,6,7,8,9,10],\r\n",
    "    elmnt => elmnt % 2 == 0\r\n",
    ")"
   ],
   "outputs": [
    {
     "output_type": "execute_result",
     "data": {
      "text/plain": [
       "[ 2, 4, 6, 8, 10 ]"
      ]
     },
     "metadata": {},
     "execution_count": 5
    }
   ],
   "metadata": {}
  },
  {
   "cell_type": "code",
   "execution_count": 4,
   "source": [
    "[1,2,3,4,5,6,7,8,9,10].filter(\r\n",
    "    elmnt => elmnt % 2 == 0\r\n",
    ");"
   ],
   "outputs": [
    {
     "output_type": "execute_result",
     "data": {
      "text/plain": [
       "[ 2, 4, 6, 8, 10 ]"
      ]
     },
     "metadata": {},
     "execution_count": 4
    }
   ],
   "metadata": {}
  },
  {
   "cell_type": "markdown",
   "source": [
    "<br>"
   ],
   "metadata": {}
  },
  {
   "cell_type": "code",
   "execution_count": 12,
   "source": [
    "function map(array, transform) {\r\n",
    "  let mapped = [];\r\n",
    "  for (let element of array) {\r\n",
    "    mapped.push(\r\n",
    "      transform(element)\r\n",
    "    );\r\n",
    "  }\r\n",
    "  return mapped;\r\n",
    "}"
   ],
   "outputs": [],
   "metadata": {}
  },
  {
   "cell_type": "code",
   "execution_count": 17,
   "source": [
    "map(\r\n",
    "    [1,2,3,4,5,6,7,8,9,10],\r\n",
    "    x => `${x}^2 = ${Math.pow(x,2)}`\r\n",
    ");"
   ],
   "outputs": [
    {
     "output_type": "execute_result",
     "data": {
      "text/plain": [
       "[ '1^2 = 1',\n",
       "  '2^2 = 4',\n",
       "  '3^2 = 9',\n",
       "  '4^2 = 16',\n",
       "  '5^2 = 25',\n",
       "  '6^2 = 36',\n",
       "  '7^2 = 49',\n",
       "  '8^2 = 64',\n",
       "  '9^2 = 81',\n",
       "  '10^2 = 100' ]"
      ]
     },
     "metadata": {},
     "execution_count": 17
    }
   ],
   "metadata": {}
  },
  {
   "cell_type": "code",
   "execution_count": 18,
   "source": [
    "[1,2,3,4,5,6,7,8,9,10].map(\r\n",
    "    x => `${x}^2 = ${Math.pow(x,2)}`\r\n",
    ");"
   ],
   "outputs": [
    {
     "output_type": "execute_result",
     "data": {
      "text/plain": [
       "[ '1^2 = 1',\n",
       "  '2^2 = 4',\n",
       "  '3^2 = 9',\n",
       "  '4^2 = 16',\n",
       "  '5^2 = 25',\n",
       "  '6^2 = 36',\n",
       "  '7^2 = 49',\n",
       "  '8^2 = 64',\n",
       "  '9^2 = 81',\n",
       "  '10^2 = 100' ]"
      ]
     },
     "metadata": {},
     "execution_count": 18
    }
   ],
   "metadata": {}
  },
  {
   "cell_type": "code",
   "execution_count": 19,
   "source": [
    "[1,2,3,4,5,6,7,8,9,10].map(\r\n",
    "    x => `${x}^2 = ${Math.pow(x,2)}`\r\n",
    ").forEach(\r\n",
    "    elem => console.log(elem)\r\n",
    ");"
   ],
   "outputs": [
    {
     "output_type": "stream",
     "name": "stdout",
     "text": [
      "1^2 = 1\n",
      "2^2 = 4\n",
      "3^2 = 9\n",
      "4^2 = 16\n",
      "5^2 = 25\n",
      "6^2 = 36\n",
      "7^2 = 49\n",
      "8^2 = 64\n",
      "9^2 = 81\n",
      "10^2 = 100\n"
     ]
    }
   ],
   "metadata": {}
  },
  {
   "cell_type": "markdown",
   "source": [
    "<br>"
   ],
   "metadata": {}
  },
  {
   "cell_type": "code",
   "execution_count": 21,
   "source": [
    "function reduce(array, combine, start) {\r\n",
    "  let current = start;\r\n",
    "  for (let element of array) {\r\n",
    "    current = combine(\r\n",
    "      current, \r\n",
    "      element\r\n",
    "    );\r\n",
    "  }\r\n",
    "  return current;\r\n",
    "}"
   ],
   "outputs": [],
   "metadata": {}
  },
  {
   "cell_type": "markdown",
   "source": [
    "$$\\sum_{\\text{i = }1}^{10} \\large{\\alpha_i} = 1 + 2 + 3 + 4 + 5 + 6 + 7 + 8 + 9 + 10 = \\large{55}$$"
   ],
   "metadata": {}
  },
  {
   "cell_type": "code",
   "execution_count": 23,
   "source": [
    "reduce(\r\n",
    "    [1,2,3,4,5,6,7,8,9,10],\r\n",
    "    (x, y) => x + y,\r\n",
    "    0\r\n",
    ");"
   ],
   "outputs": [
    {
     "output_type": "execute_result",
     "data": {
      "text/plain": [
       "55"
      ]
     },
     "metadata": {},
     "execution_count": 23
    }
   ],
   "metadata": {}
  },
  {
   "cell_type": "code",
   "execution_count": 24,
   "source": [
    "[1,2,3,4,5,6,7,8,9,10].reduce(\r\n",
    "    (a , b) => a + b \r\n",
    ");"
   ],
   "outputs": [
    {
     "output_type": "execute_result",
     "data": {
      "text/plain": [
       "55"
      ]
     },
     "metadata": {},
     "execution_count": 24
    }
   ],
   "metadata": {}
  }
 ],
 "metadata": {
  "orig_nbformat": 4,
  "language_info": {
   "name": "javascript",
   "version": "10.13.0",
   "mimetype": "application/javascript",
   "file_extension": ".js"
  },
  "kernelspec": {
   "name": "javascript",
   "display_name": "Javascript (Node.js)",
   "language": "javascript"
  }
 },
 "nbformat": 4,
 "nbformat_minor": 2
}