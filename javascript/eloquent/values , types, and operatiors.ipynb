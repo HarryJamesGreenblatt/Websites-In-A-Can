{
    "cells": [
        {
            "cell_type": "markdown",
            "source": [
                "<link rel=\"stylesheet\" href=\"https://cdn.jsdelivr.net/npm/bulma@0.9.0/css/bulma.min.css\">\r\n",
                "    <section class=\"hero is-medium has-background-warning\">\r\n",
                "        <div class=\"hero-body\">\r\n",
                "            <p class=\"title has-text-black\">Values, Types, and Operators</p>\r\n",
                "            <p class=\"subtitle has-text-danger is-italic is-bold\">Chapter 1</p>\r\n",
                "        </div>\r\n",
                "    </section>"
            ],
            "metadata": {}
        },
        {
            "cell_type": "markdown",
            "source": [
                "## Numbers"
            ],
            "metadata": {}
        },
        {
            "cell_type": "code",
            "execution_count": null,
            "source": [],
            "outputs": [],
            "metadata": {}
        },
        {
            "cell_type": "code",
            "execution_count": 5,
            "source": [
                "69;"
            ],
            "outputs": [
                {
                    "output_type": "execute_result",
                    "data": {
                        "text/plain": [
                            "69"
                        ]
                    },
                    "metadata": {},
                    "execution_count": 5
                }
            ],
            "metadata": {}
        },
        {
            "cell_type": "markdown",
            "source": [
                "## Decimals"
            ],
            "metadata": {}
        },
        {
            "cell_type": "code",
            "execution_count": 6,
            "source": [
                "9.81;"
            ],
            "outputs": [
                {
                    "output_type": "execute_result",
                    "data": {
                        "text/plain": [
                            "9.81"
                        ]
                    },
                    "metadata": {},
                    "execution_count": 6
                }
            ],
            "metadata": {}
        },
        {
            "cell_type": "markdown",
            "source": [
                "### Exponebtial Notation"
            ],
            "metadata": {}
        },
        {
            "cell_type": "code",
            "execution_count": 7,
            "source": [
                "2.99e8"
            ],
            "outputs": [
                {
                    "output_type": "execute_result",
                    "data": {
                        "text/plain": [
                            "299000000"
                        ]
                    },
                    "metadata": {},
                    "execution_count": 7
                }
            ],
            "metadata": {}
        },
        {
            "cell_type": "markdown",
            "source": [
                "## Arithmetic and Operator Precedence "
            ],
            "metadata": {}
        },
        {
            "cell_type": "code",
            "execution_count": 6,
            "source": [
                "100 + 4 * 11"
            ],
            "outputs": [
                {
                    "output_type": "execute_result",
                    "data": {
                        "text/plain": [
                            "144"
                        ]
                    },
                    "metadata": {},
                    "execution_count": 6
                }
            ],
            "metadata": {}
        },
        {
            "cell_type": "markdown",
            "source": [
                "use $\\text{  parenthenses () }$ to control the $\\text{ order of precedence}$"
            ],
            "metadata": {}
        },
        {
            "cell_type": "code",
            "execution_count": 7,
            "source": [
                "(100 + 4) * 11"
            ],
            "outputs": [
                {
                    "output_type": "execute_result",
                    "data": {
                        "text/plain": [
                            "1144"
                        ]
                    },
                    "metadata": {},
                    "execution_count": 7
                }
            ],
            "metadata": {}
        },
        {
            "cell_type": "markdown",
            "source": [
                "### Operator Precedence Table"
            ],
            "metadata": {}
        },
        {
            "cell_type": "markdown",
            "source": [
                "<table>\r\n",
                "<thead>\r\n",
                "<tr>\r\n",
                "<td width=\"140\">Operator</td>\r\n",
                "<td width=\"140\">Operation</td>\r\n",
                "<td width=\"140\">Order of Precedence</td>\r\n",
                "<td width=\"140\">Order of Evaluation</td>\r\n",
                "</tr>\r\n",
                "</thead>\r\n",
                "<tbody>\r\n",
                "<tr>\r\n",
                "<td width=\"140\"><code>++</code></td>\r\n",
                "<td width=\"140\">Increment</td>\r\n",
                "<td width=\"140\">First</td>\r\n",
                "<td width=\"140\">R -&gt; L</td>\r\n",
                "</tr>\r\n",
                "<tr>\r\n",
                "<td width=\"140\"><code>--</code></td>\r\n",
                "<td width=\"140\">Decrement</td>\r\n",
                "<td width=\"140\">First</td>\r\n",
                "<td width=\"140\">R -&gt; L</td>\r\n",
                "</tr>\r\n",
                "<tr>\r\n",
                "<td width=\"140\"><code>—</code></td>\r\n",
                "<td width=\"140\">Negation</td>\r\n",
                "<td width=\"140\">First</td>\r\n",
                "<td width=\"140\">R -&gt; L</td>\r\n",
                "</tr>\r\n",
                "<tr>\r\n",
                "<td width=\"140\"><code>!</code></td>\r\n",
                "<td width=\"140\">NOT</td>\r\n",
                "<td width=\"140\">First</td>\r\n",
                "<td width=\"140\">R -&gt; L</td>\r\n",
                "</tr>\r\n",
                "<tr>\r\n",
                "<td width=\"140\"><code>*, /, %</code></td>\r\n",
                "<td width=\"140\">Multiplication, division, modulus</td>\r\n",
                "<td width=\"140\">Second</td>\r\n",
                "<td width=\"140\">L -&gt; R</td>\r\n",
                "</tr>\r\n",
                "<tr>\r\n",
                "<td width=\"140\"><code>+, —</code></td>\r\n",
                "<td width=\"140\">Addition, subtraction</td>\r\n",
                "<td width=\"140\">Third</td>\r\n",
                "<td width=\"140\">L -&gt; R</td>\r\n",
                "</tr>\r\n",
                "<tr>\r\n",
                "<td width=\"140\"><code>+</code></td>\r\n",
                "<td width=\"140\">Concatenation</td>\r\n",
                "<td width=\"140\">Third</td>\r\n",
                "<td width=\"140\">L -&gt; R</td>\r\n",
                "</tr>\r\n",
                "<tr>\r\n",
                "<td width=\"140\"><code>&lt;, &lt;=</code></td>\r\n",
                "<td width=\"140\">Less than, less than, or equal</td>\r\n",
                "<td width=\"140\">Fourth</td>\r\n",
                "<td width=\"140\">L -&gt; R</td>\r\n",
                "</tr>\r\n",
                "<tr>\r\n",
                "<td width=\"140\"><code>&gt;, &gt;=</code></td>\r\n",
                "<td width=\"140\">Greater than, greater than, or equal</td>\r\n",
                "<td width=\"140\">Fourth</td>\r\n",
                "<td width=\"140\">L -&gt; R</td>\r\n",
                "</tr>\r\n",
                "<tr>\r\n",
                "<td width=\"140\"><code>==</code></td>\r\n",
                "<td width=\"140\">Equal</td>\r\n",
                "<td width=\"140\">Fifth</td>\r\n",
                "<td width=\"140\">L -&gt; R</td>\r\n",
                "</tr>\r\n",
                "<tr>\r\n",
                "<td width=\"140\"><code>!=</code></td>\r\n",
                "<td width=\"140\">Not equal</td>\r\n",
                "<td width=\"140\">Fifth</td>\r\n",
                "<td width=\"140\">L -&gt; R</td>\r\n",
                "</tr>\r\n",
                "<tr>\r\n",
                "<td width=\"140\"><code>===</code></td>\r\n",
                "<td width=\"140\">Identity</td>\r\n",
                "<td width=\"140\">Fifth</td>\r\n",
                "<td width=\"140\">L -&gt; R</td>\r\n",
                "</tr>\r\n",
                "<tr>\r\n",
                "<td width=\"140\"><code>!==</code></td>\r\n",
                "<td width=\"140\">Non-identity</td>\r\n",
                "<td width=\"140\">Fifth</td>\r\n",
                "<td width=\"140\">L -&gt; R</td>\r\n",
                "</tr>\r\n",
                "<tr>\r\n",
                "<td width=\"140\"><code>&amp;&amp;</code></td>\r\n",
                "<td width=\"140\">AND</td>\r\n",
                "<td width=\"140\">Sixth</td>\r\n",
                "<td width=\"140\">L -&gt; R</td>\r\n",
                "</tr>\r\n",
                "<tr>\r\n",
                "<td width=\"140\"><code>||</code></td>\r\n",
                "<td width=\"140\">OR</td>\r\n",
                "<td width=\"140\">Sixth</td>\r\n",
                "<td width=\"140\">L -&gt; R</td>\r\n",
                "</tr>\r\n",
                "<tr>\r\n",
                "<td width=\"140\"><code>?:</code></td>\r\n",
                "<td width=\"140\">Ternary</td>\r\n",
                "<td width=\"140\">Seventh</td>\r\n",
                "<td width=\"140\">R -&gt; L</td>\r\n",
                "</tr>\r\n",
                "<tr>\r\n",
                "<td width=\"140\"><code>=</code></td>\r\n",
                "<td width=\"140\">Assignment</td>\r\n",
                "<td width=\"140\">Eighth</td>\r\n",
                "<td width=\"140\">R -&gt; L</td>\r\n",
                "</tr>\r\n",
                "<tr>\r\n",
                "<td width=\"140\"><code>+=</code>, <code>-=</code>, and so on.</td>\r\n",
                "<td width=\"140\">Arithmetic assignment</td>\r\n",
                "<td width=\"140\">Eighth</td>\r\n",
                "<td width=\"140\">R -&gt; L</td>\r\n",
                "</tr>\r\n",
                "</tbody>\r\n",
                "</table>"
            ],
            "metadata": {}
        },
        {
            "cell_type": "markdown",
            "source": [
                "## Strings"
            ],
            "metadata": {}
        },
        {
            "cell_type": "markdown",
            "source": [
                "### Quotes"
            ],
            "metadata": {}
        },
        {
            "cell_type": "code",
            "execution_count": 13,
            "source": [
                "'String with single quotes';"
            ],
            "outputs": [
                {
                    "output_type": "execute_result",
                    "data": {
                        "text/plain": [
                            "'String with single quotes'"
                        ]
                    },
                    "metadata": {},
                    "execution_count": 13
                }
            ],
            "metadata": {}
        },
        {
            "cell_type": "code",
            "execution_count": 15,
            "source": [
                "\"String with double quotes\";"
            ],
            "outputs": [
                {
                    "output_type": "execute_result",
                    "data": {
                        "text/plain": [
                            "'String with double quotes'"
                        ]
                    },
                    "metadata": {},
                    "execution_count": 15
                }
            ],
            "metadata": {}
        },
        {
            "cell_type": "code",
            "execution_count": 14,
            "source": [
                "`String with bacticks`;"
            ],
            "outputs": [
                {
                    "output_type": "execute_result",
                    "data": {
                        "text/plain": [
                            "'String with bacticks'"
                        ]
                    },
                    "metadata": {},
                    "execution_count": 14
                }
            ],
            "metadata": {}
        },
        {
            "cell_type": "markdown",
            "source": [
                "### Interpolation"
            ],
            "metadata": {}
        },
        {
            "cell_type": "code",
            "execution_count": 2,
            "source": [
                "`String interpolation using backticks showing 110/2 = ${100/2}`;"
            ],
            "outputs": [
                {
                    "output_type": "execute_result",
                    "data": {
                        "text/plain": [
                            "'String interpolation using backticks showing 110/2 = 50'"
                        ]
                    },
                    "metadata": {},
                    "execution_count": 2
                }
            ],
            "metadata": {}
        }
    ],
    "metadata": {
        "orig_nbformat": 4,
        "language_info": {
            "name": "javascript",
            "version": "10.13.0",
            "mimetype": "application/javascript",
            "file_extension": ".js"
        },
        "kernelspec": {
            "name": "javascript",
            "display_name": "Javascript (Node.js)",
            "language": "javascript"
        },
        "interpreter": {
            "hash": "b3ba2566441a7c06988d0923437866b63cedc61552a5af99d1f4fb67d367b25f"
        }
    },
    "nbformat": 4,
    "nbformat_minor": 2
}