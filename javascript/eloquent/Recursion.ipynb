{
 "cells": [
  {
   "cell_type": "markdown",
   "source": [
    "<link rel=\"stylesheet\" href=\"https://cdn.jsdelivr.net/npm/bulma@0.9.0/css/bulma.min.css\">\r\n",
    "    <section class=\"hero is-medium has-background-warning\">\r\n",
    "        <div class=\"hero-body\">\r\n",
    "            <p class=\"title has-text-black\">Examples of Recursion:</p>\r\n",
    "            <p class=\"subtitle has-text-danger is-italic is-bold\">A  function that calls itself.</p>\r\n",
    "        </div>\r\n",
    "    </section>"
   ],
   "metadata": {}
  },
  {
   "cell_type": "code",
   "execution_count": 2,
   "source": [
    "function power(base, exponent) {\r\n",
    "    \r\n",
    "    if (exponent == 0) \r\n",
    "        return 1;\r\n",
    "\r\n",
    "    else \r\n",
    "        return  base * power(base, exponent - 1);\r\n",
    "\r\n",
    "}"
   ],
   "outputs": [],
   "metadata": {}
  },
  {
   "cell_type": "code",
   "execution_count": 3,
   "source": [
    "console.log( \r\n",
    "    power( 2, 3 )  \r\n",
    ");"
   ],
   "outputs": [
    {
     "output_type": "stream",
     "name": "stdout",
     "text": [
      "8\n"
     ]
    }
   ],
   "metadata": {}
  },
  {
   "cell_type": "markdown",
   "source": [
    "<br>"
   ],
   "metadata": {}
  },
  {
   "cell_type": "code",
   "execution_count": 14,
   "source": [
    "function findSolution(target) {\r\n",
    "\r\n",
    "    function find(current, history){\r\n",
    "\r\n",
    "        if (current == target)\r\n",
    "            return history;\r\n",
    "        else if (current > target)\r\n",
    "            return null;\r\n",
    "        else\r\n",
    "            return find(current + 5,`(${history} + 5)`) \r\n",
    "                   || \r\n",
    "                   find(current * 3,`(${history} * 3)`);\r\n",
    "                   \r\n",
    "    }\r\n",
    "\r\n",
    "    return find(1, \"1\");\r\n",
    "\r\n",
    "}"
   ],
   "outputs": [],
   "metadata": {}
  },
  {
   "cell_type": "code",
   "execution_count": null,
   "source": [
    "console.log(\r\n",
    "    findSolution(24)\r\n",
    ");"
   ],
   "outputs": [],
   "metadata": {}
  }
 ],
 "metadata": {
  "orig_nbformat": 4,
  "language_info": {
   "name": "javascript",
   "version": "10.13.0",
   "mimetype": "application/javascript",
   "file_extension": ".js"
  },
  "kernelspec": {
   "name": "javascript",
   "display_name": "Javascript (Node.js)",
   "language": "javascript"
  }
 },
 "nbformat": 4,
 "nbformat_minor": 2
}