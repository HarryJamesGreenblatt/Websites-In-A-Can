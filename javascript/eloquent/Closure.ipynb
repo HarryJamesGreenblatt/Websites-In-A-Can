{
 "cells": [
  {
   "cell_type": "markdown",
   "source": [
    "<link rel=\"stylesheet\" href=\"https://cdn.jsdelivr.net/npm/bulma@0.9.0/css/bulma.min.css\">\r\n",
    "    <section class=\"hero is-medium has-background-warning\">\r\n",
    "        <div class=\"hero-body\">\r\n",
    "            <p class=\"title has-text-black\">Example of Closure:</p>\r\n",
    "            <p class=\"subtitle has-text-danger is-italic is-bold\">A  function that returns a function of it's local variables.</p>\r\n",
    "        </div>\r\n",
    "    </section>"
   ],
   "metadata": {}
  },
  {
   "cell_type": "code",
   "execution_count": 1,
   "source": [
    "function multiplier(factor) {\r\n",
    "    return number => number * factor;\r\n",
    "}"
   ],
   "outputs": [],
   "metadata": {}
  },
  {
   "cell_type": "code",
   "execution_count": 2,
   "source": [
    "let twice = multiplier(2);\r\n",
    "console.log(twice(5));"
   ],
   "outputs": [
    {
     "output_type": "stream",
     "name": "stdout",
     "text": [
      "10\n"
     ]
    }
   ],
   "metadata": {}
  }
 ],
 "metadata": {
  "orig_nbformat": 4,
  "language_info": {
   "name": "javascript",
   "version": "10.13.0",
   "mimetype": "application/javascript",
   "file_extension": ".js"
  },
  "kernelspec": {
   "name": "javascript",
   "display_name": "Javascript (Node.js)",
   "language": "javascript"
  }
 },
 "nbformat": 4,
 "nbformat_minor": 2
}