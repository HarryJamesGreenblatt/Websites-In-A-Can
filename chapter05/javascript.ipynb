{
 "cells": [
  {
   "cell_type": "code",
   "execution_count": null,
   "metadata": {
    "dotnet_interactive": {
     "language": "javascript"
    },
    "polyglot_notebook": {
     "kernelName": "javascript"
    }
   },
   "outputs": [],
   "source": [
    "$(document).ready(function() {\n",
    "\t$('html').dblclick(function() {\n",
    "\t\talert('ouch');\n",
    "\t}); // end doubleclick\n",
    "\t$('a').mouseover(function() {\n",
    "\t\tvar message = \"<p>You moused over a link</p>\";\n",
    "\t\t$('.main').append(message);\n",
    "\t}); // end mouseover\n",
    "\t$('#button').click(function() {\n",
    "\t\t$(this).val(\"Stop that!\");\n",
    "\t}); // end click\n",
    "\t$('#textfield').focus(function() {\n",
    "\t\t$(this).css('background-color','red');\n",
    "\t}); // end focus\n",
    "}); // end ready"
   ]
  },
  {
   "cell_type": "code",
   "execution_count": null,
   "metadata": {
    "dotnet_interactive": {
     "language": "html"
    },
    "polyglot_notebook": {
     "kernelName": "html"
    }
   },
   "outputs": [],
   "source": [
    "<style>\n",
    "    #render-btn{\n",
    "        background: #cccccc;\n",
    "        padding: 10px;\n",
    "        color: black;\n",
    "        transition: all 0.3s ease;\n",
    "    }\n",
    "    #render-btn:hover{\n",
    "        background: white;\n",
    "        color: red;\n",
    "    }\n",
    "    .wrapper{\n",
    "        background: black;\n",
    "    }\n",
    "    \n",
    "</style>\n",
    "\n",
    "<a id=\"render-btn\" href=\"https://nbviewer.org/github/HarryJamesGreenblatt/Websites-In-A-Can/blob/main/chapter05/javascript.ipynb\">Render This Notebook</a>"
   ]
  },
  {
   "cell_type": "code",
   "execution_count": null,
   "metadata": {
    "dotnet_interactive": {
     "language": "html"
    },
    "polyglot_notebook": {
     "kernelName": "html"
    }
   },
   "outputs": [],
   "source": [
    "<!DOCTYPE html>\n",
    "<html>\n",
    "<head>\n",
    "\t<meta charset=\"UTF-8\">\n",
    "\t<title>Introducing Events</title>\n",
    "\t<link href=\"site.css\" rel=\"stylesheet\">\n",
    "\t<script src=\"https://code.jquery.com/jquery-3.6.3.min.js\"></script>\n",
    "\t<script src=\"jquery.js\"></script>\n",
    "</head>\n",
    "<body>\n",
    "\t<div class=\"wrapper\">\n",
    "\t\t<div class=\"header\">\n",
    "\t\t\t<p class=\"logo\">JavaScript <i>&</i> jQuery <i class=\"mm\">The<br>Missing<br>Manual</i></p>\n",
    "\t\t</div>\n",
    "\t\t<div class=\"content\">\n",
    "\t\t\t<div class=\"main\">\n",
    "\t\t\t\t<h1>Introducing Events</h1>\n",
    "\t\t\t\t<p><a href=\"#\">A Link</a></p>\n",
    "\t\t\t\t<form action=\"#\" method=\"get\">\n",
    "\t\t\t\t\t<fieldset><legend>A Form</legend><p><input name=\"button\" type=\"button\" id=\"button\" value=\"A Button\"></p>\n",
    "\t\t\t\t\t<p><input name=\"textfield\" id=\"textfield\" type=\"text\"></p></fieldset>\n",
    "\t\t\t\t</form>\n",
    "\t\t\t</div>\n",
    "\t\t</div>\n",
    "\t</div>\n",
    "</body>\n",
    "</html>"
   ]
  }
 ],
 "metadata": {
  "kernelspec": {
   "display_name": ".NET (C#)",
   "language": "C#",
   "name": ".net-csharp"
  },
  "polyglot_notebook": {
   "kernelInfo": {
    "defaultKernelName": "csharp",
    "items": [
     {
      "aliases": [
       "c#",
       "C#"
      ],
      "languageName": "C#",
      "name": "csharp"
     },
     {
      "aliases": [
       "frontend"
      ],
      "name": "vscode"
     },
     {
      "aliases": [],
      "name": ".NET"
     },
     {
      "aliases": [
       "f#",
       "F#"
      ],
      "languageName": "F#",
      "name": "fsharp"
     },
     {
      "aliases": [],
      "languageName": "HTML",
      "name": "html"
     },
     {
      "aliases": [
       "js"
      ],
      "languageName": "JavaScript",
      "name": "javascript"
     },
     {
      "aliases": [],
      "languageName": "KQL",
      "name": "kql"
     },
     {
      "aliases": [],
      "languageName": "Mermaid",
      "name": "mermaid"
     },
     {
      "aliases": [
       "powershell"
      ],
      "languageName": "PowerShell",
      "name": "pwsh"
     },
     {
      "aliases": [],
      "languageName": "SQL",
      "name": "sql"
     },
     {
      "aliases": [],
      "name": "value"
     },
     {
      "aliases": [],
      "name": "webview"
     }
    ]
   }
  }
 },
 "nbformat": 4,
 "nbformat_minor": 2
}
