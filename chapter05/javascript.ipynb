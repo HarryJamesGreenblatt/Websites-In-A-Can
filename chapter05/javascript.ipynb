{
 "cells": [
  {
   "cell_type": "code",
   "execution_count": 1,
   "metadata": {
    "dotnet_interactive": {
     "language": "javascript"
    },
    "polyglot_notebook": {
     "kernelName": "javascript"
    }
   },
   "outputs": [],
   "source": [
    "$(document).ready(function() {\n",
    "\t$('html').dblclick(function() {\n",
    "\t\talert('ouch');\n",
    "\t}); // end doubleclick\n",
    "\t$('a').mouseover(function() {\n",
    "\t\tvar message = \"<p>You moused over a link</p>\";\n",
    "\t\t$('.main').append(message);\n",
    "\t}); // end mouseover\n",
    "\t$('#button').click(function() {\n",
    "\t\t$(this).val(\"Stop that!\");\n",
    "\t}); // end click\n",
    "\t$('#textfield').focus(function() {\n",
    "\t\t$(this).css('background-color','red');\n",
    "\t}); // end focus\n",
    "}); // end ready"
   ]
  },
  {
   "cell_type": "code",
   "execution_count": 4,
   "metadata": {
    "dotnet_interactive": {
     "language": "html"
    },
    "polyglot_notebook": {
     "kernelName": "html"
    }
   },
   "outputs": [
    {
     "data": {
      "text/html": [
       "<!DOCTYPE html>\r\n",
       "<html>\r\n",
       "<head>\r\n",
       "<meta charset=\"UTF-8\">\r\n",
       "<title>Introducing Events</title>\r\n",
       "<link href=\"../_css/site.css\" rel=\"stylesheet\">\r\n",
       "<script src=\"../_js/jquery-1.7.2.min.js\"></script>\r\n",
       "<script src=\"jquery.js\"></script>\r\n",
       "</head>\r\n",
       "<body>\r\n",
       "<div class=\"wrapper\">\r\n",
       "<div class=\"header\">\r\n",
       "\t<p class=\"logo\">JavaScript <i>&</i> jQuery <i class=\"mm\">The<br>Missing<br>Manual</i></p>\r\n",
       "</div>\r\n",
       "<div class=\"content\">\r\n",
       "\t<div class=\"main\">\r\n",
       "<h1>Introducing Events</h1>\r\n",
       "<p><a href=\"#\">A Link</a></p>\r\n",
       "<form action=\"#\" method=\"get\">\r\n",
       "<fieldset><legend>A Form</legend><p><input name=\"button\" type=\"button\" id=\"button\" value=\"A Button\"></p>\r\n",
       "<p><input name=\"textfield\" id=\"textfield\" type=\"text\"></p></fieldset>\r\n",
       "</form>\r\n",
       "</div>\r\n",
       "<div class=\"footer\">\r\n",
       "<p>JavaScript &amp; jQuery: The Missing Manual, by <a href=\"http://sawmac.com/\">David McFarland</a>. Published by <a href=\"http://oreilly.com/\">O'Reilly Media, Inc</a>.</p>\r\n",
       "</div>\r\n",
       "</div>\r\n",
       "</body>\r\n",
       "</html>\r\n"
      ]
     },
     "metadata": {},
     "output_type": "display_data"
    }
   ],
   "source": [
    "<!DOCTYPE html>\n",
    "<html>\n",
    "<head>\n",
    "<meta charset=\"UTF-8\">\n",
    "<title>Introducing Events</title>\n",
    "<link href=\"../_css/site.css\" rel=\"stylesheet\">\n",
    "<script src=\"../_js/jquery-1.7.2.min.js\"></script>\n",
    "<script src=\"jquery.js\"></script>\n",
    "</head>\n",
    "<body>\n",
    "<div class=\"wrapper\">\n",
    "<div class=\"header\">\n",
    "\t<p class=\"logo\">JavaScript <i>&</i> jQuery <i class=\"mm\">The<br>Missing<br>Manual</i></p>\n",
    "</div>\n",
    "<div class=\"content\">\n",
    "\t<div class=\"main\">\n",
    "<h1>Introducing Events</h1>\n",
    "<p><a href=\"#\">A Link</a></p>\n",
    "<form action=\"#\" method=\"get\">\n",
    "<fieldset><legend>A Form</legend><p><input name=\"button\" type=\"button\" id=\"button\" value=\"A Button\"></p>\n",
    "<p><input name=\"textfield\" id=\"textfield\" type=\"text\"></p></fieldset>\n",
    "</form>\n",
    "</div>\n",
    "<div class=\"footer\">\n",
    "<p>JavaScript &amp; jQuery: The Missing Manual, by <a href=\"http://sawmac.com/\">David McFarland</a>. Published by <a href=\"http://oreilly.com/\">O'Reilly Media, Inc</a>.</p>\n",
    "</div>\n",
    "</div>\n",
    "</body>\n",
    "</html>\n"
   ]
  }
 ],
 "metadata": {
  "kernelspec": {
   "display_name": ".NET (C#)",
   "language": "C#",
   "name": ".net-csharp"
  },
  "polyglot_notebook": {
   "kernelInfo": {
    "defaultKernelName": "csharp",
    "items": [
     {
      "aliases": [],
      "name": "csharp"
     }
    ]
   }
  }
 },
 "nbformat": 4,
 "nbformat_minor": 2
}
